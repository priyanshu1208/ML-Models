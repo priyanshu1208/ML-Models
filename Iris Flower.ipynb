{
 "cells": [
  {
   "cell_type": "code",
   "execution_count": 1,
   "id": "5d15a514",
   "metadata": {},
   "outputs": [],
   "source": [
    "import pandas as pd\n",
    "import numpy as np\n",
    "import matplotlib.pyplot as plt\n",
    "%matplotlib inline\n",
    "from sklearn.datasets import load_iris"
   ]
  },
  {
   "cell_type": "code",
   "execution_count": 4,
   "id": "7ba59ec3",
   "metadata": {},
   "outputs": [],
   "source": [
    "iris = load_iris()"
   ]
  },
  {
   "cell_type": "code",
   "execution_count": 5,
   "id": "2519ff9e",
   "metadata": {},
   "outputs": [
    {
     "data": {
      "text/plain": [
       "['DESCR',\n",
       " 'data',\n",
       " 'data_module',\n",
       " 'feature_names',\n",
       " 'filename',\n",
       " 'frame',\n",
       " 'target',\n",
       " 'target_names']"
      ]
     },
     "execution_count": 5,
     "metadata": {},
     "output_type": "execute_result"
    }
   ],
   "source": [
    "dir(iris)"
   ]
  },
  {
   "cell_type": "code",
   "execution_count": 7,
   "id": "54c919b0",
   "metadata": {},
   "outputs": [
    {
     "data": {
      "text/plain": [
       "array([5.1, 3.5, 1.4, 0.2])"
      ]
     },
     "execution_count": 7,
     "metadata": {},
     "output_type": "execute_result"
    }
   ],
   "source": [
    "iris.data[0]"
   ]
  },
  {
   "cell_type": "code",
   "execution_count": 9,
   "id": "a535b9a9",
   "metadata": {},
   "outputs": [
    {
     "ename": "AttributeError",
     "evalue": "describe",
     "output_type": "error",
     "traceback": [
      "\u001b[1;31m---------------------------------------------------------------------------\u001b[0m",
      "\u001b[1;31mKeyError\u001b[0m                                  Traceback (most recent call last)",
      "\u001b[1;32m~\\anaconda3\\lib\\site-packages\\sklearn\\utils\\__init__.py\u001b[0m in \u001b[0;36m__getattr__\u001b[1;34m(self, key)\u001b[0m\n\u001b[0;32m    116\u001b[0m         \u001b[1;32mtry\u001b[0m\u001b[1;33m:\u001b[0m\u001b[1;33m\u001b[0m\u001b[1;33m\u001b[0m\u001b[0m\n\u001b[1;32m--> 117\u001b[1;33m             \u001b[1;32mreturn\u001b[0m \u001b[0mself\u001b[0m\u001b[1;33m[\u001b[0m\u001b[0mkey\u001b[0m\u001b[1;33m]\u001b[0m\u001b[1;33m\u001b[0m\u001b[1;33m\u001b[0m\u001b[0m\n\u001b[0m\u001b[0;32m    118\u001b[0m         \u001b[1;32mexcept\u001b[0m \u001b[0mKeyError\u001b[0m\u001b[1;33m:\u001b[0m\u001b[1;33m\u001b[0m\u001b[1;33m\u001b[0m\u001b[0m\n",
      "\u001b[1;31mKeyError\u001b[0m: 'describe'",
      "\nDuring handling of the above exception, another exception occurred:\n",
      "\u001b[1;31mAttributeError\u001b[0m                            Traceback (most recent call last)",
      "\u001b[1;32m~\\AppData\\Local\\Temp\\ipykernel_36580\\1816422394.py\u001b[0m in \u001b[0;36m<module>\u001b[1;34m\u001b[0m\n\u001b[1;32m----> 1\u001b[1;33m \u001b[0miris\u001b[0m\u001b[1;33m.\u001b[0m\u001b[0mdescribe\u001b[0m\u001b[1;33m(\u001b[0m\u001b[1;33m)\u001b[0m\u001b[1;33m\u001b[0m\u001b[1;33m\u001b[0m\u001b[0m\n\u001b[0m",
      "\u001b[1;32m~\\anaconda3\\lib\\site-packages\\sklearn\\utils\\__init__.py\u001b[0m in \u001b[0;36m__getattr__\u001b[1;34m(self, key)\u001b[0m\n\u001b[0;32m    117\u001b[0m             \u001b[1;32mreturn\u001b[0m \u001b[0mself\u001b[0m\u001b[1;33m[\u001b[0m\u001b[0mkey\u001b[0m\u001b[1;33m]\u001b[0m\u001b[1;33m\u001b[0m\u001b[1;33m\u001b[0m\u001b[0m\n\u001b[0;32m    118\u001b[0m         \u001b[1;32mexcept\u001b[0m \u001b[0mKeyError\u001b[0m\u001b[1;33m:\u001b[0m\u001b[1;33m\u001b[0m\u001b[1;33m\u001b[0m\u001b[0m\n\u001b[1;32m--> 119\u001b[1;33m             \u001b[1;32mraise\u001b[0m \u001b[0mAttributeError\u001b[0m\u001b[1;33m(\u001b[0m\u001b[0mkey\u001b[0m\u001b[1;33m)\u001b[0m\u001b[1;33m\u001b[0m\u001b[1;33m\u001b[0m\u001b[0m\n\u001b[0m\u001b[0;32m    120\u001b[0m \u001b[1;33m\u001b[0m\u001b[0m\n\u001b[0;32m    121\u001b[0m     \u001b[1;32mdef\u001b[0m \u001b[0m__setstate__\u001b[0m\u001b[1;33m(\u001b[0m\u001b[0mself\u001b[0m\u001b[1;33m,\u001b[0m \u001b[0mstate\u001b[0m\u001b[1;33m)\u001b[0m\u001b[1;33m:\u001b[0m\u001b[1;33m\u001b[0m\u001b[1;33m\u001b[0m\u001b[0m\n",
      "\u001b[1;31mAttributeError\u001b[0m: describe"
     ]
    }
   ],
   "source": [
    "iris.describe()"
   ]
  },
  {
   "cell_type": "code",
   "execution_count": 10,
   "id": "e5c6d8a7",
   "metadata": {},
   "outputs": [
    {
     "data": {
      "text/plain": [
       "['sepal length (cm)',\n",
       " 'sepal width (cm)',\n",
       " 'petal length (cm)',\n",
       " 'petal width (cm)']"
      ]
     },
     "execution_count": 10,
     "metadata": {},
     "output_type": "execute_result"
    }
   ],
   "source": [
    "iris.feature_names"
   ]
  },
  {
   "cell_type": "code",
   "execution_count": 12,
   "id": "7b6166e8",
   "metadata": {},
   "outputs": [],
   "source": [
    "from sklearn.model_selection import train_test_split\n",
    "x_train,x_test,y_train,y_test = train_test_split(iris.data,iris.target,test_size = 0.1)"
   ]
  },
  {
   "cell_type": "code",
   "execution_count": 16,
   "id": "03b778b4",
   "metadata": {},
   "outputs": [
    {
     "data": {
      "text/plain": [
       "array([[4.8, 3. , 1.4, 0.3],\n",
       "       [4.6, 3.2, 1.4, 0.2],\n",
       "       [5. , 3.4, 1.6, 0.4],\n",
       "       [5.2, 3.4, 1.4, 0.2],\n",
       "       [5.7, 4.4, 1.5, 0.4],\n",
       "       [5.9, 3. , 5.1, 1.8],\n",
       "       [7.4, 2.8, 6.1, 1.9],\n",
       "       [5.4, 3. , 4.5, 1.5],\n",
       "       [5.8, 2.7, 5.1, 1.9],\n",
       "       [5.6, 2.8, 4.9, 2. ],\n",
       "       [6. , 2.2, 5. , 1.5],\n",
       "       [5. , 2.3, 3.3, 1. ],\n",
       "       [6.4, 3.2, 5.3, 2.3],\n",
       "       [5.1, 3.7, 1.5, 0.4],\n",
       "       [5.8, 2.6, 4. , 1.2],\n",
       "       [6.8, 3.2, 5.9, 2.3],\n",
       "       [4.4, 3.2, 1.3, 0.2],\n",
       "       [6.1, 2.8, 4.7, 1.2],\n",
       "       [5.5, 2.5, 4. , 1.3],\n",
       "       [7.1, 3. , 5.9, 2.1],\n",
       "       [5.7, 2.9, 4.2, 1.3],\n",
       "       [5.6, 2.5, 3.9, 1.1],\n",
       "       [5.2, 3.5, 1.5, 0.2],\n",
       "       [6.7, 3.1, 5.6, 2.4],\n",
       "       [5.7, 3.8, 1.7, 0.3],\n",
       "       [6.5, 3. , 5.2, 2. ],\n",
       "       [4.9, 3. , 1.4, 0.2],\n",
       "       [5.9, 3. , 4.2, 1.5],\n",
       "       [4.6, 3.4, 1.4, 0.3],\n",
       "       [7.7, 2.6, 6.9, 2.3],\n",
       "       [6.6, 2.9, 4.6, 1.3],\n",
       "       [7. , 3.2, 4.7, 1.4],\n",
       "       [4.9, 3.1, 1.5, 0.2],\n",
       "       [7.3, 2.9, 6.3, 1.8],\n",
       "       [6.2, 2.9, 4.3, 1.3],\n",
       "       [4.9, 3.6, 1.4, 0.1],\n",
       "       [7.2, 3. , 5.8, 1.6],\n",
       "       [6.8, 3. , 5.5, 2.1],\n",
       "       [5.4, 3.9, 1.3, 0.4],\n",
       "       [5.4, 3.7, 1.5, 0.2],\n",
       "       [4.9, 2.4, 3.3, 1. ],\n",
       "       [6.7, 3. , 5. , 1.7],\n",
       "       [4.9, 2.5, 4.5, 1.7],\n",
       "       [5.2, 4.1, 1.5, 0.1],\n",
       "       [7.7, 2.8, 6.7, 2. ],\n",
       "       [6.3, 2.3, 4.4, 1.3],\n",
       "       [5.3, 3.7, 1.5, 0.2],\n",
       "       [5.1, 3.4, 1.5, 0.2],\n",
       "       [5.2, 2.7, 3.9, 1.4],\n",
       "       [4.8, 3.4, 1.6, 0.2],\n",
       "       [5. , 3. , 1.6, 0.2],\n",
       "       [6.3, 2.7, 4.9, 1.8],\n",
       "       [6.1, 2.9, 4.7, 1.4],\n",
       "       [4.7, 3.2, 1.3, 0.2],\n",
       "       [6.2, 3.4, 5.4, 2.3],\n",
       "       [5.1, 3.5, 1.4, 0.2],\n",
       "       [5.4, 3.4, 1.5, 0.4],\n",
       "       [7.7, 3. , 6.1, 2.3],\n",
       "       [5. , 2. , 3.5, 1. ],\n",
       "       [5.4, 3.9, 1.7, 0.4],\n",
       "       [6.2, 2.8, 4.8, 1.8],\n",
       "       [5.8, 2.7, 4.1, 1. ],\n",
       "       [6. , 2.7, 5.1, 1.6],\n",
       "       [5.5, 2.6, 4.4, 1.2],\n",
       "       [4.4, 3. , 1.3, 0.2],\n",
       "       [5.7, 2.8, 4.1, 1.3],\n",
       "       [6.4, 3.1, 5.5, 1.8],\n",
       "       [5.8, 2.7, 5.1, 1.9],\n",
       "       [6.2, 2.2, 4.5, 1.5],\n",
       "       [6.3, 3.3, 6. , 2.5],\n",
       "       [5. , 3.6, 1.4, 0.2],\n",
       "       [5. , 3.2, 1.2, 0.2],\n",
       "       [6.9, 3.1, 5.1, 2.3],\n",
       "       [5.1, 3.8, 1.5, 0.3],\n",
       "       [6.4, 2.8, 5.6, 2.2],\n",
       "       [5.1, 3.5, 1.4, 0.3],\n",
       "       [6. , 3. , 4.8, 1.8],\n",
       "       [5. , 3.3, 1.4, 0.2],\n",
       "       [4.6, 3.1, 1.5, 0.2],\n",
       "       [6. , 3.4, 4.5, 1.6],\n",
       "       [7.7, 3.8, 6.7, 2.2],\n",
       "       [6.5, 3.2, 5.1, 2. ],\n",
       "       [5.8, 2.7, 3.9, 1.2],\n",
       "       [6.1, 2.8, 4. , 1.3],\n",
       "       [5. , 3.5, 1.3, 0.3],\n",
       "       [6.1, 2.6, 5.6, 1.4],\n",
       "       [5.5, 2.4, 3.8, 1.1],\n",
       "       [5.5, 2.3, 4. , 1.3],\n",
       "       [4.7, 3.2, 1.6, 0.2],\n",
       "       [4.6, 3.6, 1. , 0.2],\n",
       "       [7.9, 3.8, 6.4, 2. ],\n",
       "       [5.5, 3.5, 1.3, 0.2],\n",
       "       [6.4, 2.9, 4.3, 1.3],\n",
       "       [4.5, 2.3, 1.3, 0.3],\n",
       "       [6.3, 2.5, 4.9, 1.5],\n",
       "       [4.8, 3.1, 1.6, 0.2],\n",
       "       [6.8, 2.8, 4.8, 1.4],\n",
       "       [6.7, 3.1, 4.7, 1.5],\n",
       "       [5.8, 4. , 1.2, 0.2],\n",
       "       [5.6, 2.9, 3.6, 1.3],\n",
       "       [6.3, 3.4, 5.6, 2.4],\n",
       "       [5.9, 3.2, 4.8, 1.8],\n",
       "       [6. , 2.2, 4. , 1. ],\n",
       "       [7.2, 3.2, 6. , 1.8],\n",
       "       [6.7, 3.3, 5.7, 2.1],\n",
       "       [6. , 2.9, 4.5, 1.5],\n",
       "       [6.7, 3.3, 5.7, 2.5],\n",
       "       [5.1, 3.8, 1.6, 0.2],\n",
       "       [5. , 3.5, 1.6, 0.6],\n",
       "       [6.7, 3.1, 4.4, 1.4],\n",
       "       [7.2, 3.6, 6.1, 2.5],\n",
       "       [6.4, 3.2, 4.5, 1.5],\n",
       "       [6.9, 3.2, 5.7, 2.3],\n",
       "       [6.4, 2.8, 5.6, 2.1],\n",
       "       [7.6, 3. , 6.6, 2.1],\n",
       "       [6.9, 3.1, 5.4, 2.1],\n",
       "       [5.6, 2.7, 4.2, 1.3],\n",
       "       [5.1, 3.3, 1.7, 0.5],\n",
       "       [4.8, 3. , 1.4, 0.1],\n",
       "       [6.1, 3. , 4.6, 1.4],\n",
       "       [6.7, 3. , 5.2, 2.3],\n",
       "       [6.7, 2.5, 5.8, 1.8],\n",
       "       [5.5, 2.4, 3.7, 1. ],\n",
       "       [6.5, 3. , 5.8, 2.2],\n",
       "       [5.7, 2.6, 3.5, 1. ],\n",
       "       [5.1, 3.8, 1.9, 0.4],\n",
       "       [5. , 3.4, 1.5, 0.2],\n",
       "       [6.3, 2.9, 5.6, 1.8],\n",
       "       [6.3, 2.5, 5. , 1.9],\n",
       "       [5.7, 2.8, 4.5, 1.3],\n",
       "       [6.5, 2.8, 4.6, 1.5],\n",
       "       [4.9, 3.1, 1.5, 0.1],\n",
       "       [6.1, 3. , 4.9, 1.8],\n",
       "       [6.4, 2.7, 5.3, 1.9],\n",
       "       [6.9, 3.1, 4.9, 1.5]])"
      ]
     },
     "execution_count": 16,
     "metadata": {},
     "output_type": "execute_result"
    }
   ],
   "source": [
    "x_train"
   ]
  },
  {
   "cell_type": "code",
   "execution_count": 17,
   "id": "22b8bcbe",
   "metadata": {},
   "outputs": [
    {
     "data": {
      "text/plain": [
       "array([[6.3, 3.3, 4.7, 1.6],\n",
       "       [5.7, 2.5, 5. , 2. ],\n",
       "       [5.5, 4.2, 1.4, 0.2],\n",
       "       [4.3, 3. , 1.1, 0.1],\n",
       "       [6.6, 3. , 4.4, 1.4],\n",
       "       [4.4, 2.9, 1.4, 0.2],\n",
       "       [5.7, 3. , 4.2, 1.2],\n",
       "       [6.5, 3. , 5.5, 1.8],\n",
       "       [5.1, 2.5, 3. , 1.1],\n",
       "       [4.8, 3.4, 1.9, 0.2],\n",
       "       [5.6, 3. , 4.1, 1.3],\n",
       "       [6.3, 2.8, 5.1, 1.5],\n",
       "       [5.6, 3. , 4.5, 1.5],\n",
       "       [5.8, 2.8, 5.1, 2.4],\n",
       "       [5.4, 3.4, 1.7, 0.2]])"
      ]
     },
     "execution_count": 17,
     "metadata": {},
     "output_type": "execute_result"
    }
   ],
   "source": [
    "x_test"
   ]
  },
  {
   "cell_type": "code",
   "execution_count": 18,
   "id": "1f5b0ab8",
   "metadata": {},
   "outputs": [],
   "source": [
    "from sklearn.linear_model import LogisticRegression\n",
    "model = LogisticRegression()"
   ]
  },
  {
   "cell_type": "code",
   "execution_count": 19,
   "id": "763c71f4",
   "metadata": {},
   "outputs": [
    {
     "data": {
      "text/plain": [
       "LogisticRegression()"
      ]
     },
     "execution_count": 19,
     "metadata": {},
     "output_type": "execute_result"
    }
   ],
   "source": [
    "model.fit(x_train,y_train)"
   ]
  },
  {
   "cell_type": "code",
   "execution_count": 21,
   "id": "73048d9c",
   "metadata": {},
   "outputs": [
    {
     "data": {
      "text/plain": [
       "0.9703703703703703"
      ]
     },
     "execution_count": 21,
     "metadata": {},
     "output_type": "execute_result"
    }
   ],
   "source": [
    "model.score(x_train,y_train)"
   ]
  },
  {
   "cell_type": "code",
   "execution_count": 22,
   "id": "ecf0b7c6",
   "metadata": {},
   "outputs": [
    {
     "data": {
      "text/plain": [
       "array([1, 2, 0, 0, 1, 0, 1, 2, 1, 0, 1, 2, 1, 2, 0])"
      ]
     },
     "execution_count": 22,
     "metadata": {},
     "output_type": "execute_result"
    }
   ],
   "source": [
    "model.predict(x_test)"
   ]
  },
  {
   "cell_type": "code",
   "execution_count": 23,
   "id": "ce63443f",
   "metadata": {},
   "outputs": [
    {
     "data": {
      "text/plain": [
       "array([1, 2, 0, 0, 1, 0, 1, 2, 1, 0, 1, 2, 1, 2, 0])"
      ]
     },
     "execution_count": 23,
     "metadata": {},
     "output_type": "execute_result"
    }
   ],
   "source": [
    "y_test"
   ]
  },
  {
   "cell_type": "code",
   "execution_count": 29,
   "id": "ccb7f431",
   "metadata": {},
   "outputs": [],
   "source": [
    "y_predicted = model.predict(x_test)\n",
    "from sklearn.metrics import confusion_matrix\n",
    "cm = confusion_matrix(y_test,y_predicted)"
   ]
  },
  {
   "cell_type": "code",
   "execution_count": 30,
   "id": "2f196b27",
   "metadata": {},
   "outputs": [
    {
     "data": {
      "text/plain": [
       "array([[5, 0, 0],\n",
       "       [0, 6, 0],\n",
       "       [0, 0, 4]], dtype=int64)"
      ]
     },
     "execution_count": 30,
     "metadata": {},
     "output_type": "execute_result"
    }
   ],
   "source": [
    "cm"
   ]
  },
  {
   "cell_type": "code",
   "execution_count": 31,
   "id": "96bbf45e",
   "metadata": {},
   "outputs": [
    {
     "data": {
      "text/plain": [
       "<AxesSubplot:>"
      ]
     },
     "execution_count": 31,
     "metadata": {},
     "output_type": "execute_result"
    },
    {
     "data": {
      "image/png": "[encoded data removed]",
      "text/plain": [
       "<Figure size 640x480 with 2 Axes>"
      ]
     },
     "metadata": {},
     "output_type": "display_data"
    }
   ],
   "source": [
    "import seaborn as sn\n",
    "sn.heatmap(cm,annot = True)"
   ]
  },
  {
   "cell_type": "code",
   "execution_count": null,
   "id": "a2fccdbb",
   "metadata": {},
   "outputs": [],
   "source": [
    "import pickle \n",
    "with open (\"Iris \",'wb') as f:\n",
    "    pickle.dump(model,f)"
   ]
  }
 ],
 "metadata": {
  "kernelspec": {
   "display_name": "Python 3 (ipykernel)",
   "language": "python",
   "name": "python3"
  },
  "language_info": {
   "codemirror_mode": {
    "name": "ipython",
    "version": 3
   },
   "file_extension": ".py",
   "mimetype": "text/x-python",
   "name": "python",
   "nbconvert_exporter": "python",
   "pygments_lexer": "ipython3",
   "version": "3.9.13"
  }
 },
 "nbformat": 4,
 "nbformat_minor": 5
}
